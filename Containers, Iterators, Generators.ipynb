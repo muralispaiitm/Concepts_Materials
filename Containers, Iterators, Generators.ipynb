{
 "cells": [
  {
   "cell_type": "markdown",
   "metadata": {},
   "source": [
    "==================================================================================================================\n",
    "# ----------------------------- Containers, Iterators, Generators -----------------------------\n",
    "\n",
    "=================================================================================================================="
   ]
  },
  {
   "cell_type": "markdown",
   "metadata": {},
   "source": [
    "# ======================= Containers ======================="
   ]
  },
  {
   "cell_type": "markdown",
   "metadata": {},
   "source": [
    "-----------------------------"
   ]
  },
  {
   "cell_type": "markdown",
   "metadata": {},
   "source": [
    "**Learning Objective**\n",
    "1. **Containers** are the objects that **hold data values**.  \n",
    "2. **Containers** are **Iterables**.\n",
    "3. Containers **support membership tests**."
   ]
  },
  {
   "cell_type": "markdown",
   "metadata": {},
   "source": [
    "### 1. Containers are the **objects that hold data values**.  \n",
    "Built-in containers are, **list**,  **tuple**, **set**, and **dict**.\n",
    "\n",
    "============================================================================================================"
   ]
  },
  {
   "cell_type": "markdown",
   "metadata": {},
   "source": [
    "##### Lists Examples"
   ]
  },
  {
   "cell_type": "code",
   "execution_count": 8,
   "metadata": {},
   "outputs": [],
   "source": [
    "Int_List = [1,2,3,4,5]\n",
    "Float_List = [1.2, 3.45, 2.7, 9.1]\n",
    "String_List = ['One', 'Two', 'Three', 'Four']\n",
    "Complex_List = [2+3j, 4-7j, 7+5j, 9-9j]\n",
    "Mixed_List = ['Bunny', 16, 99.5, 2+3j]"
   ]
  },
  {
   "cell_type": "markdown",
   "metadata": {},
   "source": [
    "##### Tuples Examples"
   ]
  },
  {
   "cell_type": "code",
   "execution_count": null,
   "metadata": {},
   "outputs": [],
   "source": [
    "Int_Tuple = (1,2)\n",
    "Float_Tuple = (1.2, 3.45)\n",
    "String_Tuple = ('One', 'Two')\n",
    "Complex_Tuple = (2+3j, 4-7j)\n",
    "Mixed_Tuple1 = ('Bunny', 16)\n",
    "Mixed_Tuple2 = (4, 2.6, 'Bunny', 78)"
   ]
  },
  {
   "cell_type": "markdown",
   "metadata": {},
   "source": [
    "##### Sets Examples"
   ]
  },
  {
   "cell_type": "code",
   "execution_count": 5,
   "metadata": {},
   "outputs": [],
   "source": [
    "Int_Set = {1,2}\n",
    "Float_Set = {1.2, 3.45}\n",
    "String_Set = {'One', 'Two'}\n",
    "Complex_Set = {2+3j, 4-7j}\n",
    "Mixed_Set1 = {'Bunny', 16}\n",
    "Mixed_Set2 = {4, 2.6, 'Bunny', 78, 2.6}"
   ]
  },
  {
   "cell_type": "markdown",
   "metadata": {},
   "source": [
    "##### Dictionaries Examples"
   ]
  },
  {
   "cell_type": "code",
   "execution_count": 6,
   "metadata": {},
   "outputs": [],
   "source": [
    "Dict1 = {1:'One', 2:'Two', 3:'Three'}\n",
    "Dict2 = {'One':1, 'Two':2, 'Three':3}"
   ]
  },
  {
   "cell_type": "markdown",
   "metadata": {},
   "source": [
    "### 2. Containers are iterables.\n",
    "\n",
    "We can use for-loop to extract the elements from containers one by one.\n",
    "\n",
    "============================================================================================================"
   ]
  },
  {
   "cell_type": "code",
   "execution_count": 13,
   "metadata": {
    "scrolled": true
   },
   "outputs": [
    {
     "name": "stdout",
     "output_type": "stream",
     "text": [
      "One\n",
      "Two\n",
      "Three\n",
      "Four\n"
     ]
    }
   ],
   "source": [
    "for val in String_List:\n",
    "    print(val)"
   ]
  },
  {
   "cell_type": "markdown",
   "metadata": {},
   "source": [
    "### 3. Containers support membership tests.  \n",
    "Membership tests can be done through membership operators like **in**, **not in**, **is**, **is not**, etc, which means you can check if a value exists or type of value in the container.\n",
    "\n",
    "============================================================================================================"
   ]
  },
  {
   "cell_type": "markdown",
   "metadata": {},
   "source": [
    "##### Creating Lists"
   ]
  },
  {
   "cell_type": "code",
   "execution_count": 26,
   "metadata": {},
   "outputs": [],
   "source": [
    "List1 = [1, 7, 'apple', 'banana',]\n",
    "List2 = [5, 1, 'guava', 'pappaya',]"
   ]
  },
  {
   "cell_type": "markdown",
   "metadata": {},
   "source": [
    "**in** & **not in** Operators Example"
   ]
  },
  {
   "cell_type": "code",
   "execution_count": 31,
   "metadata": {},
   "outputs": [
    {
     "name": "stdout",
     "output_type": "stream",
     "text": [
      "1 is repeating in List2\n",
      "7 is not repeating in List2\n",
      "apple is not repeating in List2\n",
      "banana is not repeating in List2\n"
     ]
    }
   ],
   "source": [
    "for item1 in List1:\n",
    "    if item1 in List2:\n",
    "        print('{} is repeating in List2'.format(item1))\n",
    "    elif item1 not in List2:\n",
    "        print('{} is not repeating in List2'.format(item1))"
   ]
  },
  {
   "cell_type": "markdown",
   "metadata": {},
   "source": [
    "**is** & **is not** Operators Example"
   ]
  },
  {
   "cell_type": "code",
   "execution_count": 33,
   "metadata": {},
   "outputs": [
    {
     "name": "stdout",
     "output_type": "stream",
     "text": [
      "Value of List1[0] is Integer\n",
      "Value of List1[1] is Integer\n",
      "Value of List1[2] is not Float\n",
      "Value of List1[3] is not Float\n"
     ]
    }
   ],
   "source": [
    "for i in range(len(List1)):\n",
    "    if type(List1[i]) is int:\n",
    "        print('Value of List1[{}] is Integer'.format(i))\n",
    "    elif type(List1[i] is not float):\n",
    "        print('Value of List1[{}] is not Float'.format(i))    "
   ]
  },
  {
   "cell_type": "markdown",
   "metadata": {},
   "source": [
    "# ======================= Iterators ======================="
   ]
  },
  {
   "cell_type": "markdown",
   "metadata": {},
   "source": [
    "-----------------------------"
   ]
  },
  {
   "cell_type": "markdown",
   "metadata": {},
   "source": [
    "**Learning Objective**\n",
    "1. What is Iterator?\n",
    "2. When do we need to use Iterators?\n",
    "3. How do we create Iterator?  \n",
    "   Iterables and its types   \n",
    "   3.1) Create an iterator from the given iterable  \n",
    "   3.2) Check the type of List1_Iterator object  \n",
    "   3.3) Access Items from iterator object by using next()  \n",
    "   3.4) Access Items from iterator object by using for-loop  \n",
    "4. Iterators are everywhere\n",
    "5. Additional Notes on Iterators  \n",
    "   5.1) Iterators are also iterables  \n",
    "   5.2) Differences between Iterables and Iterators.  "
   ]
  },
  {
   "cell_type": "markdown",
   "metadata": {},
   "source": [
    "### 1. What is Iterator?  \n",
    "============================================================================================================  \n",
    "An **iterator** in Python programming language is **an object which you can iterate upon**. That is, **it returns one object at a time**.  \n",
    "\n",
    "**Iterators** is also a Python object which can be **created on Iterable Objects** and it is used to iterate over an iterable objects.\n",
    "\n",
    "Python Iterator, **implicitly implemented in constructs like For-loops, Comprehensions, and Generators**.   "
   ]
  },
  {
   "cell_type": "markdown",
   "metadata": {},
   "source": [
    "### 2. When do we need to use Iterators?\n",
    "============================================================================================================  \n",
    "**1**. For-loop is sequential extracting elements one by one automatically from an iterable objects. But if we want to extract the elements whenever we want, we go for iterators.   \n",
    "\n",
    "**2**. In some cases, we **needn't** even **store all the information in the memory**, we **store one item** in the memory and **perform some operations** then we **go for next item**.  So we can use an iterator which can give us the next item every time we ask it. **Iterators** can **save** us a lot of **memory** and **CPU time**.  \n",
    "\n",
    "**3**. In some other cases, the **data** you work with can **be very large**. In this cases, we **can’t load all the data in the memory**. The solution is to **load** the **data in chunks**, then **perform** the desired **operation/s on each chunk**, **discard** the **chunk** and **load** the **next chunk** of data. Said in other words we need to create an iterator. We can **achieve** this **by** using the **read_csv** function in pandas, we just need to **specify the chunksize**.\n",
    "\n",
    "**Iterators are lazy**  \n",
    "Iterators allow us to both work with and create lazy iterables that don’t do any work until we ask them for their next item."
   ]
  },
  {
   "cell_type": "markdown",
   "metadata": {},
   "source": [
    "### 3. How do we Create Iterator?\n",
    "============================================================================================================  \n",
    "**Iterators** can be **created on Iterable Objects**, permitting it to be iterated over in a for-loop.\n",
    "\n",
    "**Iterable object**: It is any Python object which one can iterate over and capable of **returning its members one at a time**.\n",
    "\n",
    "**Types of Iterable objects**: There are two type of iterable objects which are **Sequence type**  and **Non-Sequence type**.  \n",
    "Sequence type ------------  **Lists**, **Tuples**, and **Strings** which are very common type iterables.    \n",
    "Non-Sequence type ----- **Dictionaries**, **Sets**, **File objects**, and **Generators**  \n",
    "\n"
   ]
  },
  {
   "cell_type": "markdown",
   "metadata": {},
   "source": [
    "**3.1** ) **Create** an **iterator from** the given **iterable**"
   ]
  },
  {
   "cell_type": "code",
   "execution_count": 58,
   "metadata": {},
   "outputs": [],
   "source": [
    "# List is the given iterable\n",
    "List1 = [1, 2, 3, 4, 5]\n",
    "# Creating an iterator\n",
    "List1_Iterator = iter(List1)"
   ]
  },
  {
   "cell_type": "markdown",
   "metadata": {},
   "source": [
    "**3.2** ) **Check** the **type** of **List1_Iterator** object"
   ]
  },
  {
   "cell_type": "code",
   "execution_count": 59,
   "metadata": {},
   "outputs": [
    {
     "name": "stdout",
     "output_type": "stream",
     "text": [
      "<class 'dict_items'>\n"
     ]
    }
   ],
   "source": [
    "# Check the type\n",
    "print(type(iterator))"
   ]
  },
  {
   "cell_type": "markdown",
   "metadata": {},
   "source": [
    "**3.3** ) **Access Items** from iterator object **by** using **next()**"
   ]
  },
  {
   "cell_type": "code",
   "execution_count": 63,
   "metadata": {},
   "outputs": [
    {
     "name": "stdout",
     "output_type": "stream",
     "text": [
      "1\n",
      "2\n"
     ]
    }
   ],
   "source": [
    "# Creating an iterator\n",
    "List1_Iterator = iter(List1)\n",
    "# Accessing items from iterator object\n",
    "print(next(List1_Iterator))\n",
    "print(next(List1_Iterator))"
   ]
  },
  {
   "cell_type": "markdown",
   "metadata": {},
   "source": [
    "**3.4** ) **Access Items** from iterator object **by** using **for-loop**"
   ]
  },
  {
   "cell_type": "code",
   "execution_count": 62,
   "metadata": {},
   "outputs": [
    {
     "name": "stdout",
     "output_type": "stream",
     "text": [
      "1\n",
      "2\n",
      "3\n",
      "4\n",
      "5\n"
     ]
    }
   ],
   "source": [
    "# Creating an iterator\n",
    "List1_Iterator = iter(List1)\n",
    "# Accessing items from iterator object\n",
    "for item in List1_Iterator:\n",
    "    print(item)"
   ]
  },
  {
   "cell_type": "markdown",
   "metadata": {},
   "source": [
    "### 4. Iterators are everywhere\n",
    "============================================================================================================  \n",
    "We have seen some examples with iterators. Moreover, Python has many built-in classes that are iterators. \n",
    "\n",
    "For example, the Python’s **enumerate**, **reversed**, **zip**, **map**, **filer** objects and **file objects** are also iterators."
   ]
  },
  {
   "cell_type": "markdown",
   "metadata": {},
   "source": [
    "##### Enumerate Example"
   ]
  },
  {
   "cell_type": "code",
   "execution_count": 41,
   "metadata": {},
   "outputs": [
    {
     "name": "stdout",
     "output_type": "stream",
     "text": [
      "<class 'enumerate'>\n",
      "(0, 'apple')\n"
     ]
    }
   ],
   "source": [
    "fruits = (\"apple\", \"pineapple\", \"blueberry\")\n",
    "iterator = enumerate(fruits)\n",
    "print(type(iterator))\n",
    "print(next(iterator))"
   ]
  },
  {
   "cell_type": "markdown",
   "metadata": {},
   "source": [
    "##### Reversed Example"
   ]
  },
  {
   "cell_type": "code",
   "execution_count": 42,
   "metadata": {},
   "outputs": [
    {
     "name": "stdout",
     "output_type": "stream",
     "text": [
      "<class 'reversed'>\n",
      "blueberry\n"
     ]
    }
   ],
   "source": [
    "fruits = (\"apple\", \"pineapple\", \"blueberry\")\n",
    "iterator = reversed(fruits)\n",
    "print(type(iterator))\n",
    "print(next(iterator))"
   ]
  },
  {
   "cell_type": "markdown",
   "metadata": {},
   "source": [
    "##### Zip Example"
   ]
  },
  {
   "cell_type": "code",
   "execution_count": 43,
   "metadata": {},
   "outputs": [
    {
     "name": "stdout",
     "output_type": "stream",
     "text": [
      "<class 'zip'>\n",
      "(1, 1)\n",
      "(2, 4)\n"
     ]
    }
   ],
   "source": [
    "numbers = [1, 2, 3]\n",
    "squares = [1, 4, 9]\n",
    "iterator = zip(numbers, squares)\n",
    "print(type(iterator))\n",
    "print(next(iterator))\n",
    "print(next(iterator))"
   ]
  },
  {
   "cell_type": "markdown",
   "metadata": {},
   "source": [
    "##### Map Example"
   ]
  },
  {
   "cell_type": "code",
   "execution_count": 44,
   "metadata": {},
   "outputs": [
    {
     "name": "stdout",
     "output_type": "stream",
     "text": [
      "<class 'map'>\n",
      "1\n",
      "4\n"
     ]
    }
   ],
   "source": [
    "numbers = [1, 2, 3, 4, 5]\n",
    "squared = map(lambda x: x**2, numbers)\n",
    "print(type(squared))\n",
    "print(next(squared))\n",
    "print(next(squared))"
   ]
  },
  {
   "cell_type": "markdown",
   "metadata": {},
   "source": [
    "##### Filter Example"
   ]
  },
  {
   "cell_type": "code",
   "execution_count": 45,
   "metadata": {},
   "outputs": [
    {
     "name": "stdout",
     "output_type": "stream",
     "text": [
      "<class 'filter'>\n",
      "3\n"
     ]
    }
   ],
   "source": [
    "numbers = [-1, -2, 3, -4, 5]\n",
    "positive = filter(lambda x: x > 0, numbers)\n",
    "print(type(positive))\n",
    "print(next(positive))"
   ]
  },
  {
   "cell_type": "markdown",
   "metadata": {},
   "source": [
    "##### File Objects Example"
   ]
  },
  {
   "cell_type": "code",
   "execution_count": 40,
   "metadata": {
    "scrolled": true
   },
   "outputs": [
    {
     "name": "stdout",
     "output_type": "stream",
     "text": [
      "Himacharan,98, 97, 99\n",
      "Harini,98, 97, 99\n",
      "Vanshika,98, 97, 99\n",
      "Pranavi,98, 97, 99\n",
      "Saritha,98, 97, 99\n",
      "Gowtham,98, 97, 99\n"
     ]
    }
   ],
   "source": [
    "Line = ''\n",
    "with open('Student_Names.txt', 'r+') as ReadFile:\n",
    "    Data_in_Series = ReadFile.read()\n",
    "    with open('Student_Marks.txt', 'w') as WriteFile:\n",
    "        for line in Data_in_Series:\n",
    "            if line != '\\n':\n",
    "                Line = Line+line\n",
    "            else:\n",
    "                WriteFile.write(Line+',98, 97, 99\\n')\n",
    "                print(Line+',98, 97, 99')\n",
    "                Line = ''"
   ]
  },
  {
   "cell_type": "markdown",
   "metadata": {},
   "source": [
    "##### Dictionary Example\n",
    "We can also iterate over key-value pairs of a Python dictionary using the items() method."
   ]
  },
  {
   "cell_type": "code",
   "execution_count": 47,
   "metadata": {
    "scrolled": true
   },
   "outputs": [
    {
     "name": "stdout",
     "output_type": "stream",
     "text": [
      "<class 'dict_items'>\n",
      "name Ventsislav\n",
      "age 24\n"
     ]
    }
   ],
   "source": [
    "my_dict = {\"name\": \"Ventsislav\", \"age\": 24}\n",
    "iterator = my_dict.items()\n",
    "print(type(iterator))\n",
    "for key, item in iterator:\n",
    "    print(key, item)"
   ]
  },
  {
   "cell_type": "markdown",
   "metadata": {},
   "source": [
    "##### Large DataSets Example\n",
    "In this example, we’ll see the idea with a small dataset called “iris species”, but the same concept will work with very large datasets, too. Here, the column names are changed."
   ]
  },
  {
   "cell_type": "code",
   "execution_count": null,
   "metadata": {},
   "outputs": [],
   "source": [
    "import pandas as pd\n",
    "\n",
    "# Initialize an empty dictionary\n",
    "counts_dict = {}\n",
    "\n",
    "# Iterate over the file chunk by chunk\n",
    "for chunk in pd.read_csv(\"iris.csv\", chunksize = 10):\n",
    "    # Iterate over the \"species\" column in DataFrame\n",
    "    for entry in chunk[\"species\"]:\n",
    "        if entry in counts_dict.keys():\n",
    "            counts_dict[entry] += 1\n",
    "        else:\n",
    "            counts_dict[entry] = 1\n",
    "\n",
    "# Print the populated dictionary\n",
    "print(counts_dict)"
   ]
  },
  {
   "cell_type": "markdown",
   "metadata": {},
   "source": [
    "### 5. Additional Notes on Iterators\n",
    "\n",
    "============================================================================================================"
   ]
  },
  {
   "cell_type": "markdown",
   "metadata": {},
   "source": [
    "**5.1**) **Iterators are also iterables** which act as their own iterators.   \n",
    "       That is, If we call the **iter()** function **on an iterator** it will always **give us itself back**."
   ]
  },
  {
   "cell_type": "code",
   "execution_count": 11,
   "metadata": {},
   "outputs": [
    {
     "name": "stdout",
     "output_type": "stream",
     "text": [
      "True\n",
      "100\n",
      "200\n",
      "300\n"
     ]
    }
   ],
   "source": [
    "numbers = [100, 200, 300]\n",
    "iterator1 = iter(numbers)\n",
    "iterator2 = iter(iterator1)\n",
    "\n",
    "# Check if they are the same object\n",
    "print(iterator1 is iterator2)\n",
    "\n",
    "for number in iterator1:\n",
    "    print(number)"
   ]
  },
  {
   "cell_type": "markdown",
   "metadata": {},
   "source": [
    "**5.2**) Differences between **Iterables** and **Iterators**.  \n",
    "**Iterable**: It is something you can **loop over**. It **has** **length** and **indexes**.  \n",
    "\n",
    "**Iterator**: It is an object **representing a stream of data**. It does the **iterating over an iterable object**. It **does not have** **length** and **indexes**.   "
   ]
  },
  {
   "cell_type": "code",
   "execution_count": 12,
   "metadata": {},
   "outputs": [
    {
     "name": "stdout",
     "output_type": "stream",
     "text": [
      "3\n"
     ]
    },
    {
     "ename": "TypeError",
     "evalue": "object of type 'list_iterator' has no len()",
     "output_type": "error",
     "traceback": [
      "\u001b[1;31m---------------------------------------------------------------------------\u001b[0m",
      "\u001b[1;31mTypeError\u001b[0m                                 Traceback (most recent call last)",
      "\u001b[1;32m<ipython-input-12-1e4156b71dbb>\u001b[0m in \u001b[0;36m<module>\u001b[1;34m\u001b[0m\n\u001b[0;32m      2\u001b[0m \u001b[0miterator\u001b[0m \u001b[1;33m=\u001b[0m \u001b[0miter\u001b[0m\u001b[1;33m(\u001b[0m\u001b[0mnumbers\u001b[0m\u001b[1;33m)\u001b[0m\u001b[1;33m\u001b[0m\u001b[1;33m\u001b[0m\u001b[0m\n\u001b[0;32m      3\u001b[0m \u001b[0mprint\u001b[0m\u001b[1;33m(\u001b[0m\u001b[0mlen\u001b[0m\u001b[1;33m(\u001b[0m\u001b[0mnumbers\u001b[0m\u001b[1;33m)\u001b[0m\u001b[1;33m)\u001b[0m\u001b[1;33m\u001b[0m\u001b[1;33m\u001b[0m\u001b[0m\n\u001b[1;32m----> 4\u001b[1;33m \u001b[0mprint\u001b[0m\u001b[1;33m(\u001b[0m\u001b[0mlen\u001b[0m\u001b[1;33m(\u001b[0m\u001b[0miterator\u001b[0m\u001b[1;33m)\u001b[0m\u001b[1;33m)\u001b[0m\u001b[1;33m\u001b[0m\u001b[1;33m\u001b[0m\u001b[0m\n\u001b[0m",
      "\u001b[1;31mTypeError\u001b[0m: object of type 'list_iterator' has no len()"
     ]
    }
   ],
   "source": [
    "numbers = [100, 200, 300]\n",
    "iterator = iter(numbers)\n",
    "print(len(numbers))\n",
    "print(len(iterator))"
   ]
  },
  {
   "cell_type": "markdown",
   "metadata": {},
   "source": [
    "# ======================= Generators ======================="
   ]
  },
  {
   "cell_type": "markdown",
   "metadata": {},
   "source": [
    "**Learning Objectives**\n",
    "1. Creating a custom iterator with defining a Class\n",
    "2. Iterator Protocol\n",
    "3. Generator Functions and Generator Expressions  \n",
    "   3.1) Generator Functions  \n",
    "   3.2) Generator Expressions  "
   ]
  },
  {
   "cell_type": "markdown",
   "metadata": {},
   "source": [
    "### 1. Creating a custom iterator with defining a Class\n",
    "============================================================================================================\n",
    "\n",
    "In some cases, we may want to create a custom iterator. We can do that by defining a class that has **\\_\\_init__**, **\\_\\_next__**, and **\\_\\_iter__** methods.\n",
    "Let’s try to create a custom iterator class that generate numbers between min value and max value."
   ]
  },
  {
   "cell_type": "code",
   "execution_count": 5,
   "metadata": {
    "scrolled": true
   },
   "outputs": [
    {
     "name": "stdout",
     "output_type": "stream",
     "text": [
      "<class '__main__.generate_numbers'>\n",
      "40\n",
      "41\n",
      "42\n"
     ]
    }
   ],
   "source": [
    "class generate_numbers:\n",
    "    def __init__(self, min_value, max_value):\n",
    "        self.current = min_value\n",
    "        self.high = max_value\n",
    "\n",
    "    def __iter__(self):\n",
    "        return self\n",
    "\n",
    "    def __next__(self):\n",
    "        if self.current > self.high:\n",
    "            raise StopIteration\n",
    "        else:\n",
    "            self.current += 1\n",
    "            return self.current - 1\n",
    "\n",
    "numbers = generate_numbers(40, 50)\n",
    "print(type(numbers))\n",
    "print(next(numbers))\n",
    "print(next(numbers))\n",
    "print(next(numbers))"
   ]
  },
  {
   "cell_type": "markdown",
   "metadata": {},
   "source": [
    "We can see that this works. However, it is much easier to use a generator function or generator expression to create a custom iterator."
   ]
  },
  {
   "cell_type": "markdown",
   "metadata": {},
   "source": [
    "### 2. Iterator Protocol\n",
    "\n",
    "============================================================================================================"
   ]
  },
  {
   "cell_type": "markdown",
   "metadata": {},
   "source": [
    "The iterator objects are required to support the following two methods __iter__() and __next__(), which together form the iterator protocol:  \n",
    " \n",
    "**iterator.__iter__():** Return the iterator object itself. This is required to allow both containers (also called collections) and iterators to be used with the for and in statements.  \n",
    "\n",
    "**iterator.__next__():** Return the next item from the container. If there are no more items, raise the StopIteration exception.\n"
   ]
  },
  {
   "cell_type": "markdown",
   "metadata": {},
   "source": [
    "### 3. Generator Functions and Generator Expressions\n",
    "============================================================================================================  \n",
    "Usually, we use a generator function or generator expression when we want to create a custom iterator. They are simpler to use and need less code to achieve the same result."
   ]
  },
  {
   "cell_type": "markdown",
   "metadata": {},
   "source": [
    "##### 3.1) Generator Functions\n",
    "A function which **returns a generator iterator**. It looks like a normal function except that it contains **yield** expressions for **producing a series of values** usable in a for-loop or that can be **retrieved one at a time with the next()** function.\n",
    "\n",
    "The **yield expression** is the thing that separates a generation function from a normal function. This expression is helping us to use the iterator’s laziness.  Each yield temporarily suspends processing, remembering the location execution state (including local variables and pending try-statements). When the generator iterator resumes, it picks up where it left off (in contrast to functions which start fresh on every invocation)."
   ]
  },
  {
   "cell_type": "code",
   "execution_count": 6,
   "metadata": {},
   "outputs": [
    {
     "name": "stdout",
     "output_type": "stream",
     "text": [
      "<class 'generator'>\n",
      "40\n",
      "41\n",
      "42\n"
     ]
    }
   ],
   "source": [
    "def generate_numbers(min_value, max_value):\n",
    "    while min_value < max_value:\n",
    "        yield min_value\n",
    "        min_value += 1\n",
    "\n",
    "numbers = generate_numbers(40, 50)\n",
    "print(type(numbers))\n",
    "print(next(numbers))\n",
    "print(next(numbers))\n",
    "print(next(numbers))"
   ]
  },
  {
   "cell_type": "markdown",
   "metadata": {},
   "source": [
    "##### 3.2) Generator Expressions\n",
    "The generator expressions are very similar to the list comprehensions. Just like a list comprehension, the general expressions are concise. In most cases, they are written in one line of code inside of open braces.  \n",
    "An expression that returns an iterator. It looks like a normal expression followed by a for expression defining a loop variable, range, and an optional if expression."
   ]
  },
  {
   "cell_type": "code",
   "execution_count": 51,
   "metadata": {},
   "outputs": [
    {
     "name": "stdout",
     "output_type": "stream",
     "text": [
      "<class 'generator'>\n",
      "1\n",
      "4\n",
      "9\n"
     ]
    }
   ],
   "source": [
    "numbers = [1, 2, 3, 4, 5]\n",
    "squares = (number**2 for number in numbers)\n",
    "print(type(squares))\n",
    "print(next(squares))\n",
    "print(next(squares))\n",
    "print(next(squares))"
   ]
  },
  {
   "cell_type": "markdown",
   "metadata": {},
   "source": [
    "**Note**: If we write comprehension inside of square braces instead open braces, we get an error while using next()."
   ]
  },
  {
   "cell_type": "code",
   "execution_count": 9,
   "metadata": {},
   "outputs": [
    {
     "name": "stdout",
     "output_type": "stream",
     "text": [
      "<class 'list'>\n"
     ]
    },
    {
     "ename": "TypeError",
     "evalue": "'list' object is not an iterator",
     "output_type": "error",
     "traceback": [
      "\u001b[1;31m---------------------------------------------------------------------------\u001b[0m",
      "\u001b[1;31mTypeError\u001b[0m                                 Traceback (most recent call last)",
      "\u001b[1;32m<ipython-input-9-5f7c451c90ea>\u001b[0m in \u001b[0;36m<module>\u001b[1;34m\u001b[0m\n\u001b[0;32m      2\u001b[0m \u001b[0msquares\u001b[0m \u001b[1;33m=\u001b[0m \u001b[1;33m[\u001b[0m\u001b[0mnumber\u001b[0m\u001b[1;33m**\u001b[0m\u001b[1;36m2\u001b[0m \u001b[1;32mfor\u001b[0m \u001b[0mnumber\u001b[0m \u001b[1;32min\u001b[0m \u001b[0mnumbers\u001b[0m\u001b[1;33m]\u001b[0m\u001b[1;33m\u001b[0m\u001b[1;33m\u001b[0m\u001b[0m\n\u001b[0;32m      3\u001b[0m \u001b[0mprint\u001b[0m\u001b[1;33m(\u001b[0m\u001b[0mtype\u001b[0m\u001b[1;33m(\u001b[0m\u001b[0msquares\u001b[0m\u001b[1;33m)\u001b[0m\u001b[1;33m)\u001b[0m\u001b[1;33m\u001b[0m\u001b[1;33m\u001b[0m\u001b[0m\n\u001b[1;32m----> 4\u001b[1;33m \u001b[0mprint\u001b[0m\u001b[1;33m(\u001b[0m\u001b[0mnext\u001b[0m\u001b[1;33m(\u001b[0m\u001b[0msquares\u001b[0m\u001b[1;33m)\u001b[0m\u001b[1;33m)\u001b[0m\u001b[1;33m\u001b[0m\u001b[1;33m\u001b[0m\u001b[0m\n\u001b[0m\u001b[0;32m      5\u001b[0m \u001b[0mprint\u001b[0m\u001b[1;33m(\u001b[0m\u001b[0mnext\u001b[0m\u001b[1;33m(\u001b[0m\u001b[0msquares\u001b[0m\u001b[1;33m)\u001b[0m\u001b[1;33m)\u001b[0m\u001b[1;33m\u001b[0m\u001b[1;33m\u001b[0m\u001b[0m\n\u001b[0;32m      6\u001b[0m \u001b[0mprint\u001b[0m\u001b[1;33m(\u001b[0m\u001b[0mnext\u001b[0m\u001b[1;33m(\u001b[0m\u001b[0msquares\u001b[0m\u001b[1;33m)\u001b[0m\u001b[1;33m)\u001b[0m\u001b[1;33m\u001b[0m\u001b[1;33m\u001b[0m\u001b[0m\n",
      "\u001b[1;31mTypeError\u001b[0m: 'list' object is not an iterator"
     ]
    }
   ],
   "source": [
    "numbers = [1, 2, 3, 4, 5]\n",
    "squares = [number**2 for number in numbers]\n",
    "print(type(squares))\n",
    "print(next(squares))"
   ]
  },
  {
   "cell_type": "markdown",
   "metadata": {},
   "source": [
    "##### Generator Expression with Condition"
   ]
  },
  {
   "cell_type": "code",
   "execution_count": 52,
   "metadata": {},
   "outputs": [
    {
     "name": "stdout",
     "output_type": "stream",
     "text": [
      "<class 'generator'>\n",
      "[4, 16]\n"
     ]
    }
   ],
   "source": [
    "numbers = [1, 2, 3, 4, 5]\n",
    "squares = (number**2 for number in numbers if number % 2 == 0)\n",
    "print(type(squares))\n",
    "print(list(squares))"
   ]
  },
  {
   "cell_type": "markdown",
   "metadata": {},
   "source": [
    "##### Generator Expression with multiple conditions"
   ]
  },
  {
   "cell_type": "code",
   "execution_count": 53,
   "metadata": {},
   "outputs": [
    {
     "name": "stdout",
     "output_type": "stream",
     "text": [
      "<class 'generator'>\n",
      "[16]\n"
     ]
    }
   ],
   "source": [
    "numbers = [1, 2, 3, 4, 5]\n",
    "squares = (number**2 for number in numbers if number % 2 == 0 if number % 4 == 0)\n",
    "print(type(squares))\n",
    "print(list(squares))"
   ]
  },
  {
   "cell_type": "markdown",
   "metadata": {},
   "source": [
    "##### Generator Expression with if-else clause "
   ]
  },
  {
   "cell_type": "code",
   "execution_count": 54,
   "metadata": {},
   "outputs": [
    {
     "name": "stdout",
     "output_type": "stream",
     "text": [
      "<class 'generator'>\n",
      "['odd', 'even', 'odd', 'even', 'odd']\n"
     ]
    }
   ],
   "source": [
    "numbers = [1, 2, 3, 4, 5]\n",
    "result = (\"even\" if number % 2 == 0 else \"odd\" for number in numbers)\n",
    "print(type(result))\n",
    "print(list(result))"
   ]
  }
 ],
 "metadata": {
  "kernelspec": {
   "display_name": "Python 3",
   "language": "python",
   "name": "python3"
  },
  "language_info": {
   "codemirror_mode": {
    "name": "ipython",
    "version": 3
   },
   "file_extension": ".py",
   "mimetype": "text/x-python",
   "name": "python",
   "nbconvert_exporter": "python",
   "pygments_lexer": "ipython3",
   "version": "3.7.6"
  }
 },
 "nbformat": 4,
 "nbformat_minor": 4
}
